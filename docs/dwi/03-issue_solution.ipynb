{
 "cells": [
  {
   "cell_type": "markdown",
   "metadata": {},
   "source": [
    "# Issue Solution: Determining the number of shells"
   ]
  },
  {
   "cell_type": "code",
   "execution_count": 41,
   "metadata": {},
   "outputs": [],
   "source": [
    "from dmriprep.utils.vectors import DiffusionGradientTable\n",
    "\n",
    "import numpy as np"
   ]
  },
  {
   "cell_type": "code",
   "execution_count": 43,
   "metadata": {},
   "outputs": [],
   "source": [
    "dwi = \"../../data/sub-02_dwi.nii.gz\"\n",
    "bvec = \"../../data/sub-02_dwi.bvec\"\n",
    "bval = \"../../data/sub-02_dwi.bval\""
   ]
  },
  {
   "cell_type": "code",
   "execution_count": 44,
   "metadata": {},
   "outputs": [
    {
     "output_type": "execute_result",
     "data": {
      "text/plain": [
       "array([   0.   ,    0.   ,    0.   , 3000.   , 3000.   , 2000.   ,\n",
       "       3000.   , 1000.   , 3000.   , 3000.   , 2000.   , 3000.   ,\n",
       "       1000.   , 3000.   , 3000.   ,  500.001, 3000.   , 2000.   ,\n",
       "       3000.   , 3000.   ,  999.999, 3000.   ,  499.999, 3000.   ,\n",
       "       3000.   , 2000.   , 3000.   , 1000.   , 3000.   , 3000.   ,\n",
       "       2000.   , 3000.   , 1000.   , 3000.   , 3000.   ,    0.   ,\n",
       "       3000.   , 2000.   , 3000.   , 1000.   , 3000.   , 3000.   ,\n",
       "        499.999, 3000.   , 2000.   , 3000.   , 3000.   , 1000.   ,\n",
       "       3000.   ,    0.   , 3000.   , 3000.   , 2000.   , 3000.   ,\n",
       "       1000.   , 3000.   , 3000.   , 2000.   , 3000.   , 1000.   ,\n",
       "       3000.   , 3000.   ,  500.   , 3000.   , 2000.   , 3000.   ,\n",
       "       3000.   , 1000.   , 3000.   ,    0.   , 3000.   , 2000.   ,\n",
       "       3000.   , 3000.   ,  999.999, 3000.   ,  500.001, 3000.   ,\n",
       "       3000.   , 2000.   , 3000.   , 1000.   , 3000.   , 3000.   ,\n",
       "       2000.   , 3000.   ,  999.999, 3000.   , 3000.   ,    0.   ,\n",
       "       3000.   , 2000.   , 3000.   , 3000.   , 1000.   , 3000.   ,\n",
       "        500.001, 3000.   , 3000.   , 2000.   , 3000.   , 1000.   ,\n",
       "       3000.   ,    0.   ])"
      ]
     },
     "metadata": {},
     "execution_count": 44
    }
   ],
   "source": [
    "np.genfromtxt(bval)"
   ]
  },
  {
   "cell_type": "code",
   "execution_count": 45,
   "metadata": {},
   "outputs": [
    {
     "output_type": "execute_result",
     "data": {
      "text/plain": [
       "array([   0,    0,    0, 3000, 3000, 2000, 3000, 1000, 3000, 3000, 2000,\n",
       "       3000, 1000, 3000, 3000,  500, 3000, 2000, 3000, 3000, 1000, 3000,\n",
       "        500, 3000, 3000, 2000, 3000, 1000, 3000, 3000, 2000, 3000, 1000,\n",
       "       3000, 3000,    0, 3000, 2000, 3000, 1000, 3000, 3000,  500, 3000,\n",
       "       2000, 3000, 3000, 1000, 3000,    0, 3000, 3000, 2000, 3000, 1000,\n",
       "       3000, 3000, 2000, 3000, 1000, 3000, 3000,  500, 3000, 2000, 3000,\n",
       "       3000, 1000, 3000,    0, 3000, 2000, 3000, 3000, 1000, 3000,  500,\n",
       "       3000, 3000, 2000, 3000, 1000, 3000, 3000, 2000, 3000, 1000, 3000,\n",
       "       3000,    0, 3000, 2000, 3000, 3000, 1000, 3000,  500, 3000, 3000,\n",
       "       2000, 3000, 1000, 3000,    0], dtype=uint16)"
      ]
     },
     "metadata": {},
     "execution_count": 45
    }
   ],
   "source": [
    "gtab = DiffusionGradientTable(dwi_file=dwi, bvecs=bvec, bvals=bval)\n",
    "\n",
    "gtab._bvals"
   ]
  },
  {
   "cell_type": "code",
   "execution_count": 19,
   "metadata": {},
   "outputs": [],
   "source": [
    "from dipy.core.gradients import unique_bvals"
   ]
  },
  {
   "cell_type": "code",
   "execution_count": 21,
   "metadata": {},
   "outputs": [
    {
     "output_type": "execute_result",
     "data": {
      "text/plain": [
       "array([   0.,  500., 1000., 2000., 3000.])"
      ]
     },
     "metadata": {},
     "execution_count": 21
    }
   ],
   "source": [
    "unique_bvals(gtab._bvals)"
   ]
  },
  {
   "cell_type": "code",
   "execution_count": 9,
   "metadata": {},
   "outputs": [],
   "source": [
    "from collections import Counter"
   ]
  },
  {
   "cell_type": "code",
   "execution_count": 10,
   "metadata": {},
   "outputs": [
    {
     "output_type": "execute_result",
     "data": {
      "text/plain": [
       "Counter({0: 7, 500: 6, 1000: 15, 2000: 15, 3000: 60})"
      ]
     },
     "metadata": {},
     "execution_count": 10
    }
   ],
   "source": [
    "Counter(sorted(gtab._bvals))"
   ]
  },
  {
   "cell_type": "code",
   "execution_count": null,
   "metadata": {},
   "outputs": [],
   "source": [
    "from sklearn.cluster import KMeans\n",
    "import numpy as np"
   ]
  },
  {
   "cell_type": "code",
   "execution_count": 2,
   "metadata": {},
   "outputs": [],
   "source": [
    "SHELL_DIFF_THRES = 150"
   ]
  },
  {
   "cell_type": "code",
   "execution_count": 11,
   "metadata": {},
   "outputs": [],
   "source": [
    "def bval_centers(gradient_table, shell_diff_thres=SHELL_DIFF_THRES):\n",
    "    \"\"\"\n",
    "    Parse the available bvals from DiffusionTable into shells\n",
    "\n",
    "    Parameters\n",
    "    ----------\n",
    "    gradient_table : DiffusionGradientTable object\n",
    "    shell_diff_thres : :obj:`float`\n",
    "        hfhf\n",
    "    \n",
    "    Returns\n",
    "    -------\n",
    "    shell_centers : numpy.ndarray of length of bvals vector\n",
    "        Vector of bvals of shell centers\n",
    "\n",
    "    Example\n",
    "    -------\n",
    "\n",
    "    \"\"\"\n",
    "    bvals = diffusion_table.bvals\n",
    "\n",
    "    # use kmeans to find the shelling scheme\n",
    "    for k in range(1, len(np.unique(bvals)) + 1):\n",
    "        kmeans_res = KMeans(n_clusters=k).fit(bvals.reshape(-1, 1))\n",
    "        if kmeans_res.inertia_ / len(bvals) < shell_diff_thres:\n",
    "            break\n",
    "    else:\n",
    "        raise ValueError(\n",
    "            'Sorry, bval parsing failed - no shells '\n",
    "            'are more than {} apart are found'.format(shell_diff_thres)\n",
    "        )\n",
    "\n",
    "    # convert the kclust labels to an array\n",
    "    shells = kmeans_res.cluster_centers_\n",
    "    shell_centers_vec = np.zeros(bvals.shape)\n",
    "    for i in range(shells.size):\n",
    "        shell_centers_vec[kmeans_res.labels_ == i] = shells[i][0]\n",
    "\n",
    "    return shell_centers_vec"
   ]
  },
  {
   "cell_type": "code",
   "execution_count": 33,
   "metadata": {},
   "outputs": [
    {
     "data": {
      "text/plain": [
       "array([   0.,    0., 3000., 3000., 2000., 3000., 1000., 3000., 3000.,\n",
       "       2000., 3000., 1000., 3000., 3000.,  500., 3000., 2000., 3000.,\n",
       "       3000., 1000., 3000.,  500., 3000., 3000., 2000., 3000., 1000.,\n",
       "       3000., 3000., 2000., 3000., 1000., 3000., 3000.,    0., 3000.,\n",
       "       2000., 3000., 1000., 3000., 3000.,  500., 3000., 2000., 3000.,\n",
       "       3000., 1000., 3000.,    0., 3000., 3000., 2000., 3000., 1000.,\n",
       "       3000., 3000., 2000., 3000., 1000., 3000., 3000.,  500., 3000.,\n",
       "       2000., 3000., 3000., 1000., 3000.,    0., 3000., 2000., 3000.,\n",
       "       3000., 1000., 3000.,  500., 3000., 3000., 2000., 3000., 1000.,\n",
       "       3000., 3000., 2000., 3000., 1000., 3000., 3000.,    0., 3000.,\n",
       "       2000., 3000., 3000., 1000., 3000.,  500., 3000., 3000., 2000.,\n",
       "       3000., 1000., 3000.,    0.])"
      ]
     },
     "execution_count": 33,
     "metadata": {},
     "output_type": "execute_result"
    }
   ],
   "source": [
    "bval_centers(gtab, shell_diff_thres=SHELL_DIFF_THRES)"
   ]
  },
  {
   "cell_type": "code",
   "execution_count": 33,
   "metadata": {},
   "outputs": [],
   "source": [
    "# create mask for each shell"
   ]
  },
  {
   "cell_type": "code",
   "execution_count": null,
   "metadata": {},
   "outputs": [],
   "source": []
  }
 ],
 "metadata": {
  "kernelspec": {
   "display_name": "Python 3",
   "language": "python",
   "name": "python3"
  },
  "language_info": {
   "codemirror_mode": {
    "name": "ipython",
    "version": 3
   },
   "file_extension": ".py",
   "mimetype": "text/x-python",
   "name": "python",
   "nbconvert_exporter": "python",
   "pygments_lexer": "ipython3",
   "version": "3.7.7-final"
  }
 },
 "nbformat": 4,
 "nbformat_minor": 4
}