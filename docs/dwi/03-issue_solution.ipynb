{
 "cells": [
  {
   "cell_type": "markdown",
   "metadata": {},
   "source": [
    "# Issue Solution: Determining the number of shells"
   ]
  },
  {
   "cell_type": "code",
   "execution_count": 18,
   "metadata": {},
   "outputs": [],
   "source": [
    "from dmriprep.utils.vectors import DiffusionGradientTable\n",
    "\n",
    "import numpy as np"
   ]
  },
  {
   "cell_type": "code",
   "execution_count": 19,
   "metadata": {},
   "outputs": [],
   "source": [
    "dwi = \"../../data/sub-03_dwi.nii.gz\"\n",
    "bvec = \"../../data/sub-03_dwi.bvec\"\n",
    "bval = \"../../data/sub-03_dwi.bval\""
   ]
  },
  {
   "cell_type": "code",
   "execution_count": 21,
   "metadata": {},
   "outputs": [
    {
     "output_type": "stream",
     "name": "stderr",
     "text": [
      "Inconsistent bvals and bvecs (13, 0 low-b, respectively).\n"
     ]
    },
    {
     "output_type": "execute_result",
     "data": {
      "text/plain": [
       "array([   0,    0,  600, 1200,  600, 1200,  600, 1200,  600, 1200,  600,\n",
       "       1200,  600, 1200,  600, 1200,  600,    0, 1200,  600, 1200,  600,\n",
       "       1200,  600, 1200,  600, 1200,  600, 1200,  600, 1200,  600, 1200,\n",
       "          0,  600, 1200,  600, 1200,  600, 1200,  600, 1200,  600, 1200,\n",
       "        600, 1200,  600, 1200,  600,    0, 1200,  600, 1200,  600, 1200,\n",
       "        600, 1200,  600, 1200,  600, 1200,  600, 1200,  600, 1200,    0,\n",
       "        600, 1200,  600, 1200,  600, 1200,  600, 1200,  600, 1200,  600,\n",
       "       1200,  600, 1200,  600,    0, 1200,  600, 1200,  600, 1200,  600,\n",
       "       1200,  600, 1200,  600, 1200,  600, 1200,  600, 1200,  600, 1200,\n",
       "          0,  900, 1800,  900, 1800,  900, 1800,  900, 1800,  900, 1800,\n",
       "        900, 1800,  900, 1800,  900,    0, 1800,  900, 1800,  900, 1800,\n",
       "        900, 1800,  900, 1800,  900, 1800,  900, 1800,  900, 1800,    0,\n",
       "        900, 1800,  900, 1800,  900, 1800,  900, 1800,  900, 1800,  900,\n",
       "       1800,  900, 1800,  900,    0, 1800,  900, 1800,  900, 1800,  900,\n",
       "       1800,  900, 1800,  900, 1800,  900, 1800,  900, 1800,    0,  900,\n",
       "       1800,  900, 1800,  900, 1800,  900, 1800,  900, 1800,  900, 1800,\n",
       "        900, 1800,  900,    0, 1800,  900, 1800,  900, 1800,  900, 1800,\n",
       "        900, 1800,  900, 1800,  900, 1800,  900, 1800,  900, 1800],\n",
       "      dtype=uint16)"
      ]
     },
     "metadata": {},
     "execution_count": 21
    }
   ],
   "source": [
    "gtab = DiffusionGradientTable(dwi_file=dwi, bvecs=bvec, bvals=bval)\n",
    "\n",
    "gtab._bvals"
   ]
  },
  {
   "cell_type": "code",
   "execution_count": 23,
   "metadata": {},
   "outputs": [],
   "source": [
    "from dipy.core.gradients import unique_bvals"
   ]
  },
  {
   "cell_type": "code",
   "execution_count": 24,
   "metadata": {},
   "outputs": [
    {
     "output_type": "execute_result",
     "data": {
      "text/plain": [
       "array([   0.,  600.,  900., 1200., 1800.])"
      ]
     },
     "metadata": {},
     "execution_count": 24
    }
   ],
   "source": [
    "unique_bvals(gtab._bvals)"
   ]
  },
  {
   "cell_type": "code",
   "execution_count": 25,
   "metadata": {},
   "outputs": [],
   "source": [
    "from collections import Counter"
   ]
  },
  {
   "cell_type": "code",
   "execution_count": 31,
   "metadata": {},
   "outputs": [
    {
     "output_type": "execute_result",
     "data": {
      "text/plain": [
       "Counter({0: 13, 600: 46, 900: 46, 1200: 46, 1800: 46})"
      ]
     },
     "metadata": {},
     "execution_count": 31
    }
   ],
   "source": [
    "Counter(sorted(gtab._bvals))"
   ]
  }
 ],
 "metadata": {
  "kernelspec": {
   "display_name": "Python 3",
   "language": "python",
   "name": "python3"
  },
  "language_info": {
   "codemirror_mode": {
    "name": "ipython",
    "version": 3
   },
   "file_extension": ".py",
   "mimetype": "text/x-python",
   "name": "python",
   "nbconvert_exporter": "python",
   "pygments_lexer": "ipython3",
   "version": "3.7.7"
  }
 },
 "nbformat": 4,
 "nbformat_minor": 4
}