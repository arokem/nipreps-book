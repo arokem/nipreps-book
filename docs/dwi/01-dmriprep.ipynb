{
 "cells": [
  {
   "cell_type": "markdown",
   "metadata": {},
   "source": [
    "# About dMRIPRep"
   ]
  },
  {
   "cell_type": "markdown",
   "metadata": {},
   "source": [
    "In his 2019 ISMRM talk on the state of consensus in diffusion MRI preprocessing, Jelle Veraart polled the polled the developers of some major software packages.\n",
    "\n",
    "![preprocessing_consensus](../images/veraart-2019.png)\n",
    "[Image Processing: Possible Guidelines for the Standardization & Clinical Applications](https://www.ismrm.org/19/program_files/MIS15.htm)"
   ]
  },
  {
   "cell_type": "markdown",
   "metadata": {},
   "source": [
    "This led us to create a roadmap for *dMRIPrep*'s development\n",
    "![dmriprep_workflow](../images/figure1.svg)"
   ]
  },
  {
   "cell_type": "markdown",
   "metadata": {},
   "source": [
    "*dMRIPrep* is part of the NiPreps organization\n",
    "- robust\n",
    "- easy to use\n",
    "- reproducible\n",
    "- \"glass box\" architecture\n",
    "- regular maintenance and upgrading of methods\n",
    "![nipreps_chart](../images/nipreps-chart.svg)"
   ]
  },
  {
   "cell_type": "markdown",
   "metadata": {},
   "source": [
    "![contributors](../images/contributors.png)"
   ]
  },
  {
   "cell_type": "markdown",
   "metadata": {},
   "source": [
    "## Project Structure\n",
    "\n",
    "```\n",
    "dmriprep\n",
    "├── CHANGES.rst\n",
    "├── Dockerfile\n",
    "├── LICENSE\n",
    "├── MANIFEST.in\n",
    "├── Makefile\n",
    "├── README.rst\n",
    "├── dmriprep                    # contains all code\n",
    "│   ├── __about__.py\n",
    "│   ├── __init__.py\n",
    "│   ├── _version.py\n",
    "│   ├── cli/                    # contains code for adjusting the command line arguments\n",
    "│   ├── config\n",
    "│   │   ├── __init__.py\n",
    "│   │   ├── reports-spec.yml\n",
    "│   │   └── testing.py\n",
    "│   ├── conftest.py\n",
    "│   ├── data/                   # contains sample data that can be used to create function tests\n",
    "│   ├── interfaces              # contains Nipype interfaces that act as building blocks for individual tasks\n",
    "│   │   ├── __init__.py\n",
    "│   │   ├── images.py\n",
    "│   │   ├── reports.py\n",
    "│   │   └── vectors.py\n",
    "│   ├── utils                   # contains functions called by interfaces\n",
    "│   │   ├── __init__.py\n",
    "│   │   ├── bids.py\n",
    "│   │   ├── images.py\n",
    "│   │   ├── misc.py\n",
    "│   │   ├── tests/\n",
    "│   │   └── vectors.py\n",
    "│   └── workflows               # contains workflows that are created by combining interfaces\n",
    "│       ├── __init__.py\n",
    "│       ├── base.py\n",
    "│       ├── dwi\n",
    "│       │   ├── __init__.py\n",
    "│       │   ├── base.py\n",
    "│       │   ├── outputs.py\n",
    "│       │   └── util.py\n",
    "│       └── fmap\n",
    "│           ├── __init__.py\n",
    "│           └── base.py\n",
    "├── docs/                       # contains code for building documentation\n",
    "├── get_version.py\n",
    "├── pyproject.toml\n",
    "├── setup.cfg\n",
    "├── setup.py\n",
    "└── versioneer.py\n",
    "```"
   ]
  },
  {
   "cell_type": "markdown",
   "metadata": {},
   "source": [
    "## Resources\n",
    "\n",
    "- [Contemporary Python Packaging by Chris Markiewicz](https://gist.github.com/effigies/9bbb424535d6a1d838d6325191c0a736)\n",
    "- [Nipype Tutorials by Michael Notter](https://miykael.github.io/nipype_tutorial/)"
   ]
  },
  {
   "cell_type": "code",
   "execution_count": null,
   "metadata": {},
   "outputs": [],
   "source": []
  }
 ],
 "metadata": {
  "kernelspec": {
   "display_name": "Python 3",
   "language": "python",
   "name": "python3"
  },
  "language_info": {
   "codemirror_mode": {
    "name": "ipython",
    "version": 3
   },
   "file_extension": ".py",
   "mimetype": "text/x-python",
   "name": "python",
   "nbconvert_exporter": "python",
   "pygments_lexer": "ipython3",
   "version": "3.7.7"
  }
 },
 "nbformat": 4,
 "nbformat_minor": 4
}
