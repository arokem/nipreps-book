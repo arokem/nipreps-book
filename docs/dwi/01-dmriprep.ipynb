{
 "cells": [
  {
   "cell_type": "markdown",
   "metadata": {},
   "source": [
    "# About dMRIPRep"
   ]
  },
  {
   "cell_type": "markdown",
   "metadata": {},
   "source": [
    "The development and fast adoption of fMRIPrep have revealed that neuroscientists need tools that simplify their research workflow, provide visual reports and checkpoints, and engender trust in the tool itself.\n",
    "dMRIPrep extends fMRIPrep's approach and principles to diffusion MRI (dMRI).\n",
    "The preprocessing of dMRI involves numerous steps to clean and standardize the data before fitting a particular model or carrying out tractography.\n",
    "Generally, researchers create ad-hoc preprocessing workflows for each dataset, building upon a large inventory of available tools.\n",
    "The complexity of these workflows has snowballed with rapid advances in acquisition and processing."
   ]
  },
  {
   "cell_type": "markdown",
   "metadata": {},
   "source": [
    "In his 2019 ISMRM talk on the state of consensus in diffusion MRI preprocessing, Jelle Veraart polled the developers of some major software packages. The results were pretty encouraging! It showed that there is a consensus on some preprocessing steps. Some steps require synchronization with the image acquisition parameters and some require further testing to prove their necessity.\n",
    "\n",
    "![preprocessing_consensus](../images/veraart-2019.png)\n",
    "[Image Processing: Possible Guidelines for the Standardization & Clinical Applications](https://www.ismrm.org/19/program_files/MIS15.htm)"
   ]
  },
  {
   "cell_type": "markdown",
   "metadata": {},
   "source": [
    "*dMRIPrep* is part of the NiPreps organization\n",
    "- robust: long-term goal is for it to be able to run on a diversity of datasets\n",
    "- easy to use: BIDS App execution (`<pipeline> run /bids /output participant`)\n",
    "- reproducible: QC reports, containerized, boilerplate languge\n",
    "- \"glass box\" architecture: all code and decisions made on GitHub\n",
    "- regular maintenance and upgrading of methods\n",
    "![nipreps_chart](../images/nipreps-chart.svg)"
   ]
  },
  {
   "cell_type": "markdown",
   "metadata": {},
   "source": [
    "This led us to create a roadmap for *dMRIPrep*'s development\n",
    "![dmriprep_workflow](../images/figure1.svg)"
   ]
  },
  {
   "cell_type": "markdown",
   "metadata": {},
   "source": [
    "Below is a list of contributors to the project so far!\n",
    "![contributors](../images/contributors.png)"
   ]
  },
  {
   "cell_type": "markdown",
   "metadata": {},
   "source": [
    "## Project Structure\n",
    "\n",
    "The project can be found here: https://github.com/nipreps/dmriprep\n",
    "\n",
    "```\n",
    "dmriprep\n",
    "├── CHANGES.rst\n",
    "├── Dockerfile\n",
    "├── LICENSE\n",
    "├── MANIFEST.in\n",
    "├── Makefile\n",
    "├── README.rst\n",
    "├── dmriprep                    # contains all code\n",
    "│   ├── __about__.py\n",
    "│   ├── __init__.py\n",
    "│   ├── _version.py\n",
    "│   ├── cli/                    # contains code for adjusting the command line arguments\n",
    "│   ├── config\n",
    "│   │   ├── __init__.py\n",
    "│   │   ├── reports-spec.yml\n",
    "│   │   └── testing.py\n",
    "│   ├── conftest.py\n",
    "│   ├── data/                   # contains sample data that can be used to create function tests\n",
    "│   ├── interfaces              # contains Nipype interfaces that act as building blocks for individual tasks\n",
    "│   │   ├── __init__.py\n",
    "│   │   ├── images.py\n",
    "│   │   ├── reports.py\n",
    "│   │   └── vectors.py\n",
    "│   ├── utils                   # contains functions called by interfaces\n",
    "│   │   ├── __init__.py\n",
    "│   │   ├── bids.py\n",
    "│   │   ├── images.py\n",
    "│   │   ├── misc.py\n",
    "│   │   ├── tests/\n",
    "│   │   └── vectors.py\n",
    "│   └── workflows               # contains workflows that are created by combining interfaces\n",
    "│       ├── __init__.py\n",
    "│       ├── base.py\n",
    "│       ├── dwi\n",
    "│       │   ├── __init__.py\n",
    "│       │   ├── base.py\n",
    "│       │   ├── outputs.py\n",
    "│       │   └── util.py\n",
    "│       └── fmap\n",
    "│           ├── __init__.py\n",
    "│           └── base.py\n",
    "├── docs/                       # contains code for building documentation\n",
    "├── get_version.py\n",
    "├── pyproject.toml\n",
    "├── setup.cfg\n",
    "├── setup.py\n",
    "└── versioneer.py\n",
    "```"
   ]
  },
  {
   "cell_type": "markdown",
   "metadata": {},
   "source": [
    "## Resources\n",
    "\n",
    "- [BIDS Specification](https://bids-specification.readthedocs.io/en/stable/)\n",
    "- [PyBIDS User Guide](https://bids-standard.github.io/pybids/user_guide.html)\n",
    "- [Nipype Tutorials by Michael Notter](https://miykael.github.io/nipype_tutorial/)\n",
    "- [NiBabel Tutorials](https://nipy.org/nibabel/tutorials.html#tutorials)\n",
    "- [Contemporary Python Packaging by Chris Markiewicz](https://gist.github.com/effigies/9bbb424535d6a1d838d6325191c0a736)\n"
   ]
  }
 ],
 "metadata": {
  "kernelspec": {
   "display_name": "Python 3",
   "language": "python",
   "name": "python3"
  },
  "language_info": {
   "codemirror_mode": {
    "name": "ipython",
    "version": 3
   },
   "file_extension": ".py",
   "mimetype": "text/x-python",
   "name": "python",
   "nbconvert_exporter": "python",
   "pygments_lexer": "ipython3",
   "version": "3.7.7"
  }
 },
 "nbformat": 4,
 "nbformat_minor": 4
}
