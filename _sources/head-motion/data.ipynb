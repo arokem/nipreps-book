{
 "cells": [
  {
   "cell_type": "markdown",
   "id": "6d14af3a",
   "metadata": {},
   "source": [
    "# Introduction to dMRI data"
   ]
  },
  {
   "cell_type": "code",
   "execution_count": 1,
   "id": "78c19a21",
   "metadata": {
    "tags": [
     "hide-cell"
    ]
   },
   "outputs": [],
   "source": [
    "import warnings\n",
    "warnings.filterwarnings(\"ignore\")\n",
    "\n",
    "\n",
    "def _data_repr(value):\n",
    "    if value is None:\n",
    "        return \"None\"\n",
    "    return f\"<{'x'.join(str(v) for v in value.shape)} ({value.dtype})>\""
   ]
  },
  {
   "cell_type": "markdown",
   "id": "40f652cf",
   "metadata": {},
   "source": [
    "Diffusion imaging probes the random, microscopic motion of water protons by using MRI sequences that are sensitive to the geometry and environmental organization surrounding these protons.\n",
    "This is a popular technique for studying the white matter of the brain.\n",
    "The diffusion within biological structures, such as the brain, are often restricted due to barriers (eg. cell membranes), resulting in a preferred direction of diffusion (anisotropy).\n",
    "A typical dMRI scan will acquire multiple volumes (or ***angular samples***), each sensitive to a particular ***diffusion direction***.\n",
    "These *diffusion directions* (or ***orientations***) are a fundamental piece of metadata to interpret dMRI data, as models need to know the exact orientation of each angular sample.\n",
    "\n",
    "```{admonition} Main elements of a dMRI dataset\n",
    "- A 4D data array, where the last dimension encodes the reconstructed **diffusion direction *maps***.\n",
    "- Tabular data or a 2D array, listing the **diffusion directions** and the encoding gradient strength.\n",
    "```\n",
    "\n",
    "In summary, dMRI involves ***complex data types*** that, as programmers, we want to access, query and manipulate with ease.\n",
    "\n",
    "## Python and object oriented programming\n",
    "\n",
    "Python is an [object oriented programming](https://en.wikipedia.org/wiki/Object-oriented_programming) language, which represent and encapsulate data types and corresponding behaviors into programming structures called *objects*.\n",
    "\n",
    "Therefore, let's leverage Python to create *objects* that contain dMRI data.\n",
    "In Python, *objects* can be specified by defining a class with name `DWI`.\n",
    "To simplify class creation, we'll use the magic of a Python library called [`attrs`](https://www.attrs.org/en/stable/)."
   ]
  },
  {
   "cell_type": "code",
   "execution_count": 2,
   "id": "68576aa4",
   "metadata": {},
   "outputs": [],
   "source": [
    "\"\"\"Representing data in hard-disk and memory.\"\"\"\n",
    "import attr\n",
    "\n",
    "\n",
    "@attr.s(slots=True)\n",
    "class DWI:\n",
    "    \"\"\"Data representation structure for dMRI data.\"\"\"\n",
    "\n",
    "    dataobj = attr.ib(default=None, repr=_data_repr)\n",
    "    \"\"\"A numpy ndarray object for the data array, without *b=0* volumes.\"\"\"\n",
    "    brainmask = attr.ib(default=None, repr=_data_repr)\n",
    "    \"\"\"A boolean ndarray object containing a corresponding brainmask.\"\"\"\n",
    "    bzero = attr.ib(default=None, repr=_data_repr)\n",
    "    \"\"\"A *b=0* reference map, preferably obtained by some smart averaging.\"\"\"\n",
    "    gradients = attr.ib(default=None, repr=_data_repr)\n",
    "    \"\"\"A 2D numpy array of the gradient table in RAS+B format.\"\"\"\n",
    "    em_affines = attr.ib(default=None)\n",
    "    \"\"\"\n",
    "    List of :obj:`nitransforms.linear.Affine` objects that bring\n",
    "    DWIs (i.e., no b=0) into alignment.\n",
    "    \"\"\"\n",
    "\n",
    "    def __len__(self):\n",
    "        \"\"\"Obtain the number of high-*b* orientations.\"\"\"\n",
    "        return self.gradients.shape[-1]\n"
   ]
  },
  {
   "cell_type": "markdown",
   "id": "6a2a045b",
   "metadata": {},
   "source": [
    "This first code implements several *attributes* and the first *behavior* - the `__len__` *method*.\n",
    "The `__len__` method is special in Python, as it will be executed when we call the built-in function `len()` on our object.\n",
    "Let's test this memory structure with some *simulated* data:"
   ]
  },
  {
   "cell_type": "code",
   "execution_count": 3,
   "id": "b909dbe5",
   "metadata": {},
   "outputs": [
    {
     "name": "stdout",
     "output_type": "stream",
     "text": [
      "109\n"
     ]
    }
   ],
   "source": [
    "# NumPy is a fundamental Python library\n",
    "import numpy as np\n",
    "\n",
    "# Let's create a new DWI object, with only gradient information that is random\n",
    "dmri_dataset = DWI(gradients=np.random.normal(size=(4, 109)))\n",
    "\n",
    "# Let's call Python's built-in len() function\n",
    "print(len(dmri_dataset))"
   ]
  },
  {
   "cell_type": "markdown",
   "id": "957477e6",
   "metadata": {},
   "source": [
    "For simplicity, we will be using the full implementation from our [`emc` (EddyMotionCorrection) package](https://github.com/nipreps/EddyMotionCorrection/blob/57c518929146b23cc9534ab0b2d024aa136e25f8/emc/dmri.py)"
   ]
  }
 ],
 "metadata": {
  "jupytext": {
   "formats": "md:myst",
   "text_representation": {
    "extension": ".md",
    "format_name": "myst"
   }
  },
  "kernelspec": {
   "display_name": "Python 3",
   "language": "python",
   "name": "python3"
  },
  "language_info": {
   "codemirror_mode": {
    "name": "ipython",
    "version": 3
   },
   "file_extension": ".py",
   "mimetype": "text/x-python",
   "name": "python",
   "nbconvert_exporter": "python",
   "pygments_lexer": "ipython3",
   "version": "3.7.10"
  },
  "source_map": [
   11,
   15,
   27,
   50,
   77,
   83,
   92
  ]
 },
 "nbformat": 4,
 "nbformat_minor": 5
}