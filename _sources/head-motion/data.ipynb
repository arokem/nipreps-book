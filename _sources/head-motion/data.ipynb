{
 "cells": [
  {
   "cell_type": "markdown",
   "id": "1692b5c7",
   "metadata": {},
   "source": [
    "# Introduction to dMRI Data"
   ]
  },
  {
   "cell_type": "code",
   "execution_count": 1,
   "id": "b683a4cd",
   "metadata": {
    "tags": [
     "hide-cell"
    ]
   },
   "outputs": [],
   "source": [
    "import warnings\n",
    "warnings.filterwarnings(\"ignore\")"
   ]
  },
  {
   "cell_type": "markdown",
   "id": "4e8fa14a",
   "metadata": {},
   "source": [
    "Diffusion imaging probes the random, microscopic motion of water protons by employing MRI sequences which are sensitive to the geometry and environmental organization surrounding the water protons.\n",
    "This is a popular technique for studying the white matter of the brain.\n",
    "The diffusion within biological structures, such as the brain, are often restricted due to barriers (eg. cell membranes), resulting in a preferred direction of diffusion (anisotropy).\n",
    "A typical dMRI scan will acquire multiple volumes that are sensitive to a particular diffusion direction.\n",
    "\n",
    "## Diffusion Gradient Schemes\n",
    "\n",
    "In addition to the acquired diffusion images, two files are collected as part of the diffusion dataset.\n",
    "These files correspond to the gradient amplitude (b-values) and directions (b-vectors) of the diffusion measurement and are named with the extensions `.bval` and `.bvec` respectively."
   ]
  },
  {
   "cell_type": "code",
   "execution_count": 2,
   "id": "d4422f22",
   "metadata": {},
   "outputs": [],
   "source": [
    "dwi = \"../../data/sub-01_dwi.nii.gz\"\n",
    "bvec = \"../../data/sub-01_dwi.bvec\"\n",
    "bval = \"../../data/sub-01_dwi.bval\""
   ]
  },
  {
   "cell_type": "markdown",
   "id": "255c06c0",
   "metadata": {},
   "source": [
    "The b-value is the diffusion-sensitizing factor, and reflects the timing & strength of the gradients (measured in s/mm2) used to acquire the diffusion-weighted images."
   ]
  },
  {
   "cell_type": "code",
   "execution_count": 3,
   "id": "c3e08025",
   "metadata": {},
   "outputs": [
    {
     "name": "stdout",
     "output_type": "stream",
     "text": [
      "0 0 0 0 0 1000 1000 1000 1000 1000 1000 1000 1000 1000 1000 1000 1000 1000 1000 1000 1000 1000 1000 1000 1000 1000 1000 1000 1000 1000 1000 1000 1000 1000 1000 1000 1000 1000 1000 1000 1000 1000 1000 1000 1000 1000 1000 1000 1000 1000 1000 1000 1000 1000 1000 1000 1000 1000 1000 1000 1000 1000 1000 1000 1000\r\n"
     ]
    }
   ],
   "source": [
    "!cat ../../data/sub-01_dwi.bval"
   ]
  },
  {
   "cell_type": "markdown",
   "id": "2158648e",
   "metadata": {},
   "source": [
    "The b-vector corresponds to the direction of the diffusion sensitivity. Each row corresponds to a value in the x, y, or z axis. The numbers are combined column-wise to get an [x y z] coordinate per DWI volume."
   ]
  },
  {
   "cell_type": "code",
   "execution_count": 4,
   "id": "c73a82f0",
   "metadata": {},
   "outputs": [
    {
     "name": "stdout",
     "output_type": "stream",
     "text": [
      "0 0 0 0 0 -1 -0.361 0.255 -0.861 0.307 0.736 -0.532 -0.177 -0.771 -0.079 -0.109 -0.302 0.464 0.464 0.529 0.825 -0.697 -0.479 0.213 0.648 -0.58 0.729 -0.963 -0.229 0.016 -0.359 -0.806 0.045 0.177 -0.946 0.318 0.312 0.284 0.421 0.963 0.881 -0.758 0.684 -0.932 0.648 -0.773 -0.276 0.555 -0.007 -0.919 0.223 0.544 -0.867 -0.534 0.001 0.611 -0.691 -0.731 -0.024 -0.453 -0.432 0.87 -0.283 -0.088 0.016\r\n",
      "0 0 0 0 0 0 0.933 0.565 -0.464 -0.766 0.013 0.343 0.965 0.163 -0.996 -0.92 -0.779 -0.46 0.839 0.014 -0.54 -0.287 -0.338 -0.851 0.736 0.745 0.197 -0.264 0.507 0.171 -0.932 -0.422 0.087 0.841 0.315 0.257 0.165 -0.2 -0.093 -0.02 0.161 -0.45 0.72 0.229 -0.252 0.61 -0.533 0.591 0.715 -0.07 -0.589 -0.73 -0.477 -0.554 0.726 -0.791 0.503 0.475 -0.38 0.646 -0.82 -0.289 0.912 0.393 -0.964\r\n",
      "0 0 0 0 0 0 0 0.785 0.21 0.564 0.677 0.774 0.195 0.615 -0.036 -0.376 -0.549 0.757 0.284 -0.849 -0.167 -0.657 -0.81 -0.48 -0.195 0.33 -0.656 0.054 0.831 -0.985 0.051 -0.415 0.995 -0.511 -0.068 -0.912 0.936 -0.938 0.902 0.271 0.444 0.471 0.121 0.281 0.719 -0.174 0.8 0.586 0.699 0.388 0.777 0.414 -0.145 0.639 -0.688 -0.027 -0.519 0.489 -0.925 0.615 0.376 0.399 -0.298 -0.915 0.265\r\n"
     ]
    }
   ],
   "source": [
    "!cat ../../data/sub-01_dwi.bvec"
   ]
  },
  {
   "cell_type": "markdown",
   "id": "0c212572",
   "metadata": {},
   "source": [
    "Together these two files define the dMRI measurement as a set of gradient directions and corresponding amplitudes.\n",
    "\n",
    "In the example data above, we see that 2 b-values were chosen for this scanning sequence.\n",
    "The first few images were acquired with a b-value of 0 and are typically referred to as b=0 images.\n",
    "In these images, no diffusion gradient is applied.\n",
    "These images don't hold any diffusion information and are used as a reference (head motion correction) since they aren't subject to the same types of scanner artifacts that affect diffusion-weighted images.\n",
    "\n",
    "All of the remaining images have a b-value of 1000 and have a diffusion gradient associated with them.\n",
    "Diffusion that exhibits directionality in the same direction as the gradient result in a loss of signal.\n",
    "With further processing, the acquired images can provide measurements which are related to the microscopic changes and estimate white matter trajectories."
   ]
  },
  {
   "cell_type": "code",
   "execution_count": 5,
   "id": "a8ed2464",
   "metadata": {},
   "outputs": [
    {
     "ename": "ModuleNotFoundError",
     "evalue": "No module named 'matplotlib'",
     "output_type": "error",
     "traceback": [
      "\u001b[0;31m---------------------------------------------------------------------------\u001b[0m",
      "\u001b[0;31mModuleNotFoundError\u001b[0m                       Traceback (most recent call last)",
      "\u001b[0;32m<ipython-input-5-3f9d131e3587>\u001b[0m in \u001b[0;36m<module>\u001b[0;34m\u001b[0m\n\u001b[0;32m----> 1\u001b[0;31m \u001b[0mget_ipython\u001b[0m\u001b[0;34m(\u001b[0m\u001b[0;34m)\u001b[0m\u001b[0;34m.\u001b[0m\u001b[0mrun_line_magic\u001b[0m\u001b[0;34m(\u001b[0m\u001b[0;34m'matplotlib'\u001b[0m\u001b[0;34m,\u001b[0m \u001b[0;34m'inline'\u001b[0m\u001b[0;34m)\u001b[0m\u001b[0;34m\u001b[0m\u001b[0;34m\u001b[0m\u001b[0m\n\u001b[0m\u001b[1;32m      2\u001b[0m \u001b[0;34m\u001b[0m\u001b[0m\n\u001b[1;32m      3\u001b[0m \u001b[0;32mfrom\u001b[0m \u001b[0mnilearn\u001b[0m \u001b[0;32mimport\u001b[0m \u001b[0mimage\u001b[0m\u001b[0;34m\u001b[0m\u001b[0;34m\u001b[0m\u001b[0m\n\u001b[1;32m      4\u001b[0m \u001b[0;32mfrom\u001b[0m \u001b[0mnilearn\u001b[0m\u001b[0;34m.\u001b[0m\u001b[0mplotting\u001b[0m \u001b[0;32mimport\u001b[0m \u001b[0mplot_epi\u001b[0m\u001b[0;34m\u001b[0m\u001b[0;34m\u001b[0m\u001b[0m\n\u001b[1;32m      5\u001b[0m \u001b[0;34m\u001b[0m\u001b[0m\n",
      "\u001b[0;32m/opt/hostedtoolcache/Python/3.7.10/x64/lib/python3.7/site-packages/IPython/core/interactiveshell.py\u001b[0m in \u001b[0;36mrun_line_magic\u001b[0;34m(self, magic_name, line, _stack_depth)\u001b[0m\n\u001b[1;32m   2342\u001b[0m                 \u001b[0mkwargs\u001b[0m\u001b[0;34m[\u001b[0m\u001b[0;34m'local_ns'\u001b[0m\u001b[0;34m]\u001b[0m \u001b[0;34m=\u001b[0m \u001b[0mself\u001b[0m\u001b[0;34m.\u001b[0m\u001b[0mget_local_scope\u001b[0m\u001b[0;34m(\u001b[0m\u001b[0mstack_depth\u001b[0m\u001b[0;34m)\u001b[0m\u001b[0;34m\u001b[0m\u001b[0;34m\u001b[0m\u001b[0m\n\u001b[1;32m   2343\u001b[0m             \u001b[0;32mwith\u001b[0m \u001b[0mself\u001b[0m\u001b[0;34m.\u001b[0m\u001b[0mbuiltin_trap\u001b[0m\u001b[0;34m:\u001b[0m\u001b[0;34m\u001b[0m\u001b[0;34m\u001b[0m\u001b[0m\n\u001b[0;32m-> 2344\u001b[0;31m                 \u001b[0mresult\u001b[0m \u001b[0;34m=\u001b[0m \u001b[0mfn\u001b[0m\u001b[0;34m(\u001b[0m\u001b[0;34m*\u001b[0m\u001b[0margs\u001b[0m\u001b[0;34m,\u001b[0m \u001b[0;34m**\u001b[0m\u001b[0mkwargs\u001b[0m\u001b[0;34m)\u001b[0m\u001b[0;34m\u001b[0m\u001b[0;34m\u001b[0m\u001b[0m\n\u001b[0m\u001b[1;32m   2345\u001b[0m             \u001b[0;32mreturn\u001b[0m \u001b[0mresult\u001b[0m\u001b[0;34m\u001b[0m\u001b[0;34m\u001b[0m\u001b[0m\n\u001b[1;32m   2346\u001b[0m \u001b[0;34m\u001b[0m\u001b[0m\n",
      "\u001b[0;32m/opt/hostedtoolcache/Python/3.7.10/x64/lib/python3.7/site-packages/decorator.py\u001b[0m in \u001b[0;36mfun\u001b[0;34m(*args, **kw)\u001b[0m\n\u001b[1;32m    229\u001b[0m             \u001b[0;32mif\u001b[0m \u001b[0;32mnot\u001b[0m \u001b[0mkwsyntax\u001b[0m\u001b[0;34m:\u001b[0m\u001b[0;34m\u001b[0m\u001b[0;34m\u001b[0m\u001b[0m\n\u001b[1;32m    230\u001b[0m                 \u001b[0margs\u001b[0m\u001b[0;34m,\u001b[0m \u001b[0mkw\u001b[0m \u001b[0;34m=\u001b[0m \u001b[0mfix\u001b[0m\u001b[0;34m(\u001b[0m\u001b[0margs\u001b[0m\u001b[0;34m,\u001b[0m \u001b[0mkw\u001b[0m\u001b[0;34m,\u001b[0m \u001b[0msig\u001b[0m\u001b[0;34m)\u001b[0m\u001b[0;34m\u001b[0m\u001b[0;34m\u001b[0m\u001b[0m\n\u001b[0;32m--> 231\u001b[0;31m             \u001b[0;32mreturn\u001b[0m \u001b[0mcaller\u001b[0m\u001b[0;34m(\u001b[0m\u001b[0mfunc\u001b[0m\u001b[0;34m,\u001b[0m \u001b[0;34m*\u001b[0m\u001b[0;34m(\u001b[0m\u001b[0mextras\u001b[0m \u001b[0;34m+\u001b[0m \u001b[0margs\u001b[0m\u001b[0;34m)\u001b[0m\u001b[0;34m,\u001b[0m \u001b[0;34m**\u001b[0m\u001b[0mkw\u001b[0m\u001b[0;34m)\u001b[0m\u001b[0;34m\u001b[0m\u001b[0;34m\u001b[0m\u001b[0m\n\u001b[0m\u001b[1;32m    232\u001b[0m     \u001b[0mfun\u001b[0m\u001b[0;34m.\u001b[0m\u001b[0m__name__\u001b[0m \u001b[0;34m=\u001b[0m \u001b[0mfunc\u001b[0m\u001b[0;34m.\u001b[0m\u001b[0m__name__\u001b[0m\u001b[0;34m\u001b[0m\u001b[0;34m\u001b[0m\u001b[0m\n\u001b[1;32m    233\u001b[0m     \u001b[0mfun\u001b[0m\u001b[0;34m.\u001b[0m\u001b[0m__doc__\u001b[0m \u001b[0;34m=\u001b[0m \u001b[0mfunc\u001b[0m\u001b[0;34m.\u001b[0m\u001b[0m__doc__\u001b[0m\u001b[0;34m\u001b[0m\u001b[0;34m\u001b[0m\u001b[0m\n",
      "\u001b[0;32m/opt/hostedtoolcache/Python/3.7.10/x64/lib/python3.7/site-packages/IPython/core/magic.py\u001b[0m in \u001b[0;36m<lambda>\u001b[0;34m(f, *a, **k)\u001b[0m\n\u001b[1;32m    185\u001b[0m     \u001b[0;31m# but it's overkill for just that one bit of state.\u001b[0m\u001b[0;34m\u001b[0m\u001b[0;34m\u001b[0m\u001b[0;34m\u001b[0m\u001b[0m\n\u001b[1;32m    186\u001b[0m     \u001b[0;32mdef\u001b[0m \u001b[0mmagic_deco\u001b[0m\u001b[0;34m(\u001b[0m\u001b[0marg\u001b[0m\u001b[0;34m)\u001b[0m\u001b[0;34m:\u001b[0m\u001b[0;34m\u001b[0m\u001b[0;34m\u001b[0m\u001b[0m\n\u001b[0;32m--> 187\u001b[0;31m         \u001b[0mcall\u001b[0m \u001b[0;34m=\u001b[0m \u001b[0;32mlambda\u001b[0m \u001b[0mf\u001b[0m\u001b[0;34m,\u001b[0m \u001b[0;34m*\u001b[0m\u001b[0ma\u001b[0m\u001b[0;34m,\u001b[0m \u001b[0;34m**\u001b[0m\u001b[0mk\u001b[0m\u001b[0;34m:\u001b[0m \u001b[0mf\u001b[0m\u001b[0;34m(\u001b[0m\u001b[0;34m*\u001b[0m\u001b[0ma\u001b[0m\u001b[0;34m,\u001b[0m \u001b[0;34m**\u001b[0m\u001b[0mk\u001b[0m\u001b[0;34m)\u001b[0m\u001b[0;34m\u001b[0m\u001b[0;34m\u001b[0m\u001b[0m\n\u001b[0m\u001b[1;32m    188\u001b[0m \u001b[0;34m\u001b[0m\u001b[0m\n\u001b[1;32m    189\u001b[0m         \u001b[0;32mif\u001b[0m \u001b[0mcallable\u001b[0m\u001b[0;34m(\u001b[0m\u001b[0marg\u001b[0m\u001b[0;34m)\u001b[0m\u001b[0;34m:\u001b[0m\u001b[0;34m\u001b[0m\u001b[0;34m\u001b[0m\u001b[0m\n",
      "\u001b[0;32m/opt/hostedtoolcache/Python/3.7.10/x64/lib/python3.7/site-packages/IPython/core/magics/pylab.py\u001b[0m in \u001b[0;36mmatplotlib\u001b[0;34m(self, line)\u001b[0m\n\u001b[1;32m     97\u001b[0m             \u001b[0mprint\u001b[0m\u001b[0;34m(\u001b[0m\u001b[0;34m\"Available matplotlib backends: %s\"\u001b[0m \u001b[0;34m%\u001b[0m \u001b[0mbackends_list\u001b[0m\u001b[0;34m)\u001b[0m\u001b[0;34m\u001b[0m\u001b[0;34m\u001b[0m\u001b[0m\n\u001b[1;32m     98\u001b[0m         \u001b[0;32melse\u001b[0m\u001b[0;34m:\u001b[0m\u001b[0;34m\u001b[0m\u001b[0;34m\u001b[0m\u001b[0m\n\u001b[0;32m---> 99\u001b[0;31m             \u001b[0mgui\u001b[0m\u001b[0;34m,\u001b[0m \u001b[0mbackend\u001b[0m \u001b[0;34m=\u001b[0m \u001b[0mself\u001b[0m\u001b[0;34m.\u001b[0m\u001b[0mshell\u001b[0m\u001b[0;34m.\u001b[0m\u001b[0menable_matplotlib\u001b[0m\u001b[0;34m(\u001b[0m\u001b[0margs\u001b[0m\u001b[0;34m.\u001b[0m\u001b[0mgui\u001b[0m\u001b[0;34m.\u001b[0m\u001b[0mlower\u001b[0m\u001b[0;34m(\u001b[0m\u001b[0;34m)\u001b[0m \u001b[0;32mif\u001b[0m \u001b[0misinstance\u001b[0m\u001b[0;34m(\u001b[0m\u001b[0margs\u001b[0m\u001b[0;34m.\u001b[0m\u001b[0mgui\u001b[0m\u001b[0;34m,\u001b[0m \u001b[0mstr\u001b[0m\u001b[0;34m)\u001b[0m \u001b[0;32melse\u001b[0m \u001b[0margs\u001b[0m\u001b[0;34m.\u001b[0m\u001b[0mgui\u001b[0m\u001b[0;34m)\u001b[0m\u001b[0;34m\u001b[0m\u001b[0;34m\u001b[0m\u001b[0m\n\u001b[0m\u001b[1;32m    100\u001b[0m             \u001b[0mself\u001b[0m\u001b[0;34m.\u001b[0m\u001b[0m_show_matplotlib_backend\u001b[0m\u001b[0;34m(\u001b[0m\u001b[0margs\u001b[0m\u001b[0;34m.\u001b[0m\u001b[0mgui\u001b[0m\u001b[0;34m,\u001b[0m \u001b[0mbackend\u001b[0m\u001b[0;34m)\u001b[0m\u001b[0;34m\u001b[0m\u001b[0;34m\u001b[0m\u001b[0m\n\u001b[1;32m    101\u001b[0m \u001b[0;34m\u001b[0m\u001b[0m\n",
      "\u001b[0;32m/opt/hostedtoolcache/Python/3.7.10/x64/lib/python3.7/site-packages/ipykernel/zmqshell.py\u001b[0m in \u001b[0;36menable_matplotlib\u001b[0;34m(self, gui)\u001b[0m\n\u001b[1;32m    599\u001b[0m \u001b[0;34m\u001b[0m\u001b[0m\n\u001b[1;32m    600\u001b[0m     \u001b[0;32mdef\u001b[0m \u001b[0menable_matplotlib\u001b[0m\u001b[0;34m(\u001b[0m\u001b[0mself\u001b[0m\u001b[0;34m,\u001b[0m \u001b[0mgui\u001b[0m\u001b[0;34m=\u001b[0m\u001b[0;32mNone\u001b[0m\u001b[0;34m)\u001b[0m\u001b[0;34m:\u001b[0m\u001b[0;34m\u001b[0m\u001b[0;34m\u001b[0m\u001b[0m\n\u001b[0;32m--> 601\u001b[0;31m         \u001b[0mgui\u001b[0m\u001b[0;34m,\u001b[0m \u001b[0mbackend\u001b[0m \u001b[0;34m=\u001b[0m \u001b[0msuper\u001b[0m\u001b[0;34m(\u001b[0m\u001b[0mZMQInteractiveShell\u001b[0m\u001b[0;34m,\u001b[0m \u001b[0mself\u001b[0m\u001b[0;34m)\u001b[0m\u001b[0;34m.\u001b[0m\u001b[0menable_matplotlib\u001b[0m\u001b[0;34m(\u001b[0m\u001b[0mgui\u001b[0m\u001b[0;34m)\u001b[0m\u001b[0;34m\u001b[0m\u001b[0;34m\u001b[0m\u001b[0m\n\u001b[0m\u001b[1;32m    602\u001b[0m \u001b[0;34m\u001b[0m\u001b[0m\n\u001b[1;32m    603\u001b[0m         \u001b[0;32mfrom\u001b[0m \u001b[0mipykernel\u001b[0m\u001b[0;34m.\u001b[0m\u001b[0mpylab\u001b[0m\u001b[0;34m.\u001b[0m\u001b[0mbackend_inline\u001b[0m \u001b[0;32mimport\u001b[0m \u001b[0mconfigure_inline_support\u001b[0m\u001b[0;34m\u001b[0m\u001b[0;34m\u001b[0m\u001b[0m\n",
      "\u001b[0;32m/opt/hostedtoolcache/Python/3.7.10/x64/lib/python3.7/site-packages/IPython/core/interactiveshell.py\u001b[0m in \u001b[0;36menable_matplotlib\u001b[0;34m(self, gui)\u001b[0m\n\u001b[1;32m   3511\u001b[0m         \"\"\"\n\u001b[1;32m   3512\u001b[0m         \u001b[0;32mfrom\u001b[0m \u001b[0mIPython\u001b[0m\u001b[0;34m.\u001b[0m\u001b[0mcore\u001b[0m \u001b[0;32mimport\u001b[0m \u001b[0mpylabtools\u001b[0m \u001b[0;32mas\u001b[0m \u001b[0mpt\u001b[0m\u001b[0;34m\u001b[0m\u001b[0;34m\u001b[0m\u001b[0m\n\u001b[0;32m-> 3513\u001b[0;31m         \u001b[0mgui\u001b[0m\u001b[0;34m,\u001b[0m \u001b[0mbackend\u001b[0m \u001b[0;34m=\u001b[0m \u001b[0mpt\u001b[0m\u001b[0;34m.\u001b[0m\u001b[0mfind_gui_and_backend\u001b[0m\u001b[0;34m(\u001b[0m\u001b[0mgui\u001b[0m\u001b[0;34m,\u001b[0m \u001b[0mself\u001b[0m\u001b[0;34m.\u001b[0m\u001b[0mpylab_gui_select\u001b[0m\u001b[0;34m)\u001b[0m\u001b[0;34m\u001b[0m\u001b[0;34m\u001b[0m\u001b[0m\n\u001b[0m\u001b[1;32m   3514\u001b[0m \u001b[0;34m\u001b[0m\u001b[0m\n\u001b[1;32m   3515\u001b[0m         \u001b[0;32mif\u001b[0m \u001b[0mgui\u001b[0m \u001b[0;34m!=\u001b[0m \u001b[0;34m'inline'\u001b[0m\u001b[0;34m:\u001b[0m\u001b[0;34m\u001b[0m\u001b[0;34m\u001b[0m\u001b[0m\n",
      "\u001b[0;32m/opt/hostedtoolcache/Python/3.7.10/x64/lib/python3.7/site-packages/IPython/core/pylabtools.py\u001b[0m in \u001b[0;36mfind_gui_and_backend\u001b[0;34m(gui, gui_select)\u001b[0m\n\u001b[1;32m    278\u001b[0m     \"\"\"\n\u001b[1;32m    279\u001b[0m \u001b[0;34m\u001b[0m\u001b[0m\n\u001b[0;32m--> 280\u001b[0;31m     \u001b[0;32mimport\u001b[0m \u001b[0mmatplotlib\u001b[0m\u001b[0;34m\u001b[0m\u001b[0;34m\u001b[0m\u001b[0m\n\u001b[0m\u001b[1;32m    281\u001b[0m \u001b[0;34m\u001b[0m\u001b[0m\n\u001b[1;32m    282\u001b[0m     \u001b[0;32mif\u001b[0m \u001b[0mgui\u001b[0m \u001b[0;32mand\u001b[0m \u001b[0mgui\u001b[0m \u001b[0;34m!=\u001b[0m \u001b[0;34m'auto'\u001b[0m\u001b[0;34m:\u001b[0m\u001b[0;34m\u001b[0m\u001b[0;34m\u001b[0m\u001b[0m\n",
      "\u001b[0;31mModuleNotFoundError\u001b[0m: No module named 'matplotlib'"
     ]
    }
   ],
   "source": [
    "%matplotlib inline\n",
    "\n",
    "from nilearn import image\n",
    "from nilearn.plotting import plot_epi\n",
    "\n",
    "selected_volumes = image.index_img(dwi, slice(3, 7))\n",
    "\n",
    "for img in image.iter_img(selected_volumes):\n",
    "    plot_epi(img, display_mode=\"z\", cut_coords=(30, 53, 75), cmap=\"gray\")"
   ]
  },
  {
   "cell_type": "markdown",
   "id": "2baf6c31",
   "metadata": {},
   "source": [
    "After reading the `.bval` and `.bvec` files with the `read_bvals_bvecs()` function, we get both in a numpy array. Notice that the `.bvec` file has been transposed so that the x, y, and z-components are in column format."
   ]
  },
  {
   "cell_type": "code",
   "execution_count": null,
   "id": "2e4176cd",
   "metadata": {},
   "outputs": [],
   "source": [
    "from dipy.io import read_bvals_bvecs\n",
    "\n",
    "gt_bvals, gt_bvecs = read_bvals_bvecs(bval, bvec)\n",
    "gt_bvecs"
   ]
  },
  {
   "cell_type": "code",
   "execution_count": null,
   "id": "9ba1ae09",
   "metadata": {},
   "outputs": [],
   "source": [
    "import matplotlib.pyplot as plt\n",
    "\n",
    "fig = plt.figure()\n",
    "ax = fig.add_subplot(111, projection=\"3d\")\n",
    "ax.scatter(gt_bvecs.T[0], gt_bvecs.T[1], gt_bvecs.T[2])\n",
    "plt.show()"
   ]
  },
  {
   "cell_type": "markdown",
   "id": "a1b485a4",
   "metadata": {},
   "source": [
    "It is important to note that in this format, the diffusion gradients are provided with respect to the image axes, not in real or scanner coordinates. Simply reformatting the image from sagittal to axial will effectively rotate the b-vectors, since this operation changes the image axes. Thus, a particular bvals/bvecs pair is only valid for the particular image that it corresponds to.\n",
    "\n",
    "## Diffusion Gradient Operations\n",
    "\n",
    "Because the diffusion gradient is critical for later analyzing the data, dMRIPrep performs several checks to ensure that the information is stored correctly.\n",
    "### BIDS Validator\n",
    "\n",
    "At the beginning of the pipeline, the BIDS Validator is run.\n",
    "This package ensures that the data is BIDS-compliant and also has several dMRI-specific checks summarized below:\n",
    "\n",
    "- all dMRI scans have a corresponding `.bvec` and `.bval` file\n",
    "- the files aren't empty and formatted correctly\n",
    "  - single space delimited\n",
    "  - only contain numeric values\n",
    "  - correct number of rows and volume information\n",
    "  - volume information matches between image, `.bvec` and `.bval` files\n",
    "\n",
    "### DiffusionGradientTable\n",
    "\n",
    "In dMRIPrep, the `DiffusionGradientTable` class is used to read in the `.bvec` and `.bval` files, perform further sanity checks and make any corrections if needed."
   ]
  },
  {
   "cell_type": "code",
   "execution_count": null,
   "id": "a21559ca",
   "metadata": {},
   "outputs": [],
   "source": [
    "from dmriprep.utils.vectors import DiffusionGradientTable\n",
    "\n",
    "dwi = \"../../data/sub-02_dwi.nii.gz\"\n",
    "bvec = \"../../data/sub-02_dwi.bvec\"\n",
    "bval = \"../../data/sub-02_dwi.bval\"\n",
    "\n",
    "gt_bvals, gt_bvecs = read_bvals_bvecs(bval, bvec)\n",
    "\n",
    "gtab = DiffusionGradientTable(dwi_file=dwi, bvecs=bvec, bvals=bval)"
   ]
  },
  {
   "cell_type": "markdown",
   "id": "804abcc4",
   "metadata": {},
   "source": [
    "Below is a comparison of the `.bvec` and `.bval` files as read originally using `dipy` and after being corrected using `DiffusionGradientTable`."
   ]
  },
  {
   "cell_type": "code",
   "execution_count": null,
   "id": "78974cc5",
   "metadata": {},
   "outputs": [],
   "source": [
    "gt_bvals"
   ]
  },
  {
   "cell_type": "markdown",
   "id": "e3391865",
   "metadata": {},
   "source": [
    "It looks like this data has 5 unique b-values: 0, 600, 900, 1200 and 1800.\n",
    "However, the actual values that are reported look slightly different."
   ]
  },
  {
   "cell_type": "code",
   "execution_count": null,
   "id": "d48fa7f3",
   "metadata": {},
   "outputs": [],
   "source": [
    "from collections import Counter\n",
    "Counter(sorted(gt_bvals))"
   ]
  },
  {
   "cell_type": "markdown",
   "id": "4c384dcd",
   "metadata": {},
   "source": [
    "dMRIPrep does a bit of rounding internally to cluster the b-values into shells."
   ]
  },
  {
   "cell_type": "code",
   "execution_count": null,
   "id": "924d0da5",
   "metadata": {},
   "outputs": [],
   "source": [
    "gtab.bvals"
   ]
  },
  {
   "cell_type": "code",
   "execution_count": null,
   "id": "777b14b6",
   "metadata": {},
   "outputs": [],
   "source": [
    "gt_bvecs[0:20]"
   ]
  },
  {
   "cell_type": "markdown",
   "id": "c22235da",
   "metadata": {},
   "source": [
    "It also replaces the b-vecs where a b-value of 0 is expected."
   ]
  },
  {
   "cell_type": "code",
   "execution_count": null,
   "id": "ff249a0a",
   "metadata": {},
   "outputs": [],
   "source": [
    "gtab.bvecs[0:20]"
   ]
  },
  {
   "cell_type": "markdown",
   "id": "cb763cfb",
   "metadata": {},
   "source": [
    "Inspired by MRtrix3 and proposed in the [BIDS spec](https://github.com/bids-standard/bids-specification/issues/349), dMRIPrep also creates an optional `.tsv` file where the diffusion gradients are reported in scanner coordinates as opposed to image coordinates.\n",
    "The [x y z] values reported earlier are recalculated in [R A S]."
   ]
  },
  {
   "cell_type": "code",
   "execution_count": null,
   "id": "0ea3c5f1",
   "metadata": {},
   "outputs": [],
   "source": [
    "gtab.gradients[0:20]"
   ]
  },
  {
   "cell_type": "markdown",
   "id": "dad09f1c",
   "metadata": {},
   "source": [
    "Why is this important?\n",
    "\n",
    "Below is an example of how improperly encoded bvecs can affect tractography.\n",
    "![incorrect_bvecs](../images/incorrect_bvecs.png)\n",
    "\n",
    "`MRtrix3` has actually created a handy tool called `dwigradcheck` to confirm whether the diffusion gradient table is oriented correctly.\n",
    "\n",
    "```\n",
    "$ dwigradcheck -fslgrad ../../data/sub-02_dwi.bvec ../../data/sub-02_dwi.bval ../../data/sub-02_dwi.nii.gz\n",
    "\n",
    "> Mean length     Axis flipped    Axis permutations    Axis basis\n",
    "52.41         none                (0, 1, 2)           image\n",
    "51.68         none                (0, 1, 2)           scanner\n",
    "32.70            1                (0, 1, 2)           image\n",
    "32.25            1                (0, 1, 2)           scanner\n",
    "31.23            0                (0, 2, 1)           scanner\n",
    "30.97            2                (0, 1, 2)           scanner\n",
    "30.82            0                (0, 2, 1)           image\n",
    "29.41            2                (0, 1, 2)           image\n",
    "29.31         none                (0, 2, 1)           image\n",
    "28.61         none                (1, 0, 2)           image\n",
    "28.57            2                (1, 0, 2)           scanner\n",
    "28.46         none                (0, 2, 1)           scanner\n",
    "28.41         none                (2, 1, 0)           scanner\n",
    "28.40         none                (1, 0, 2)           scanner\n",
    "28.14            0                (0, 1, 2)           scanner\n",
    "28.04         none                (2, 1, 0)           image\n",
    "27.92            1                (2, 1, 0)           image\n",
    "27.80            1                (2, 1, 0)           scanner\n",
    "27.71            2                (1, 0, 2)           image\n",
    "27.54            0                (0, 1, 2)           image\n",
    "23.43            1                (0, 2, 1)           image\n",
    "22.86            1                (0, 2, 1)           scanner\n",
    "21.55            2                (0, 2, 1)           scanner\n",
    "21.44            0                (1, 2, 0)           scanner\n",
    "21.35            2                (0, 2, 1)           image\n",
    "21.03            1                (1, 0, 2)           image\n",
    "20.88            0                (1, 0, 2)           image\n",
    "20.87            1                (1, 2, 0)           image\n",
    "20.80            0                (2, 0, 1)           scanner\n",
    "20.74            0                (1, 0, 2)           scanner\n",
    "20.41            2                (2, 0, 1)           scanner\n",
    "20.38            1                (1, 0, 2)           scanner\n",
    "20.25            0                (2, 1, 0)           image\n",
    "20.24            0                (1, 2, 0)           image\n",
    "20.21            1                (1, 2, 0)           scanner\n",
    "20.15            1                (2, 0, 1)           image\n",
    "20.13            2                (1, 2, 0)           scanner\n",
    "20.11            2                (2, 0, 1)           image\n",
    "20.04            1                (2, 0, 1)           scanner\n",
    "19.94            0                (2, 0, 1)           image\n",
    "19.87         none                (2, 0, 1)           scanner\n",
    "19.86         none                (2, 0, 1)           image\n",
    "19.83            2                (2, 1, 0)           scanner\n",
    "19.72            2                (1, 2, 0)           image\n",
    "19.59         none                (1, 2, 0)           image\n",
    "19.49            0                (2, 1, 0)           scanner\n",
    "19.45            2                (2, 1, 0)           image\n",
    "19.43         none                (1, 2, 0)           scanner\n",
    "```"
   ]
  }
 ],
 "metadata": {
  "jupytext": {
   "formats": "md:myst",
   "text_representation": {
    "extension": ".md",
    "format_name": "myst"
   }
  },
  "kernelspec": {
   "display_name": "Python 3",
   "language": "python",
   "name": "python3"
  },
  "language_info": {
   "codemirror_mode": {
    "name": "ipython",
    "version": 3
   },
   "file_extension": ".py",
   "mimetype": "text/x-python",
   "name": "python",
   "nbconvert_exporter": "python",
   "pygments_lexer": "ipython3",
   "version": "3.7.10"
  },
  "source_map": [
   11,
   15,
   20,
   32,
   36,
   40,
   42,
   46,
   48,
   61,
   71,
   75,
   82,
   89,
   112,
   122,
   126,
   128,
   133,
   136,
   140,
   144,
   146,
   150,
   152,
   157,
   159
  ]
 },
 "nbformat": 4,
 "nbformat_minor": 5
}